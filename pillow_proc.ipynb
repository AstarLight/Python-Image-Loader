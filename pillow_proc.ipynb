{
 "cells": [
  {
   "cell_type": "code",
   "execution_count": 1,
   "metadata": {
    "collapsed": true
   },
   "outputs": [],
   "source": [
    "from PIL import Image\n",
    "import numpy as np"
   ]
  },
  {
   "cell_type": "code",
   "execution_count": 2,
   "metadata": {},
   "outputs": [
    {
     "name": "stdout",
     "output_type": "stream",
     "text": [
      "JPEG\n",
      "(683, 384)\n",
      "RGB\n"
     ]
    }
   ],
   "source": [
    "img = Image.open('1.jpg')\n",
    "print(img.format) \n",
    "print(img.size) #注意，省略了通道 (w，h)\n",
    "print(img.mode)  #L为灰度图，RGB为真彩色,RGBA为加了透明通道\n"
   ]
  },
  {
   "cell_type": "code",
   "execution_count": 4,
   "metadata": {
    "collapsed": true
   },
   "outputs": [],
   "source": [
    "img.show()"
   ]
  },
  {
   "cell_type": "code",
   "execution_count": 4,
   "metadata": {},
   "outputs": [
    {
     "name": "stdout",
     "output_type": "stream",
     "text": [
      "fail to load image!\n"
     ]
    }
   ],
   "source": [
    "#读取不到图片会抛出异常IOError，我们可以捕捉它，做异常处理\n",
    "try:\n",
    "    img2 = Image.open('2.jpg')\n",
    "except IOError:\n",
    "    print('fail to load image!')"
   ]
  },
  {
   "cell_type": "code",
   "execution_count": 5,
   "metadata": {
    "collapsed": true
   },
   "outputs": [],
   "source": [
    "img.save('1.png')"
   ]
  },
  {
   "cell_type": "code",
   "execution_count": 6,
   "metadata": {
    "collapsed": true
   },
   "outputs": [],
   "source": [
    "#分离合并通道\n",
    "r, g, b = img.split()\n",
    "img = Image.merge(\"RGB\", (b, g, r))"
   ]
  },
  {
   "cell_type": "code",
   "execution_count": 7,
   "metadata": {
    "collapsed": true
   },
   "outputs": [],
   "source": [
    "img = img.copy() #复制图像"
   ]
  },
  {
   "cell_type": "code",
   "execution_count": 8,
   "metadata": {
    "collapsed": true
   },
   "outputs": [],
   "source": [
    "img3 = Image.open('1.jpg')\n",
    "roi = img3.crop((0,0,300,300)) #(左上x，左上y，右下x，右下y)坐标\n",
    "roi.show()"
   ]
  },
  {
   "cell_type": "code",
   "execution_count": 5,
   "metadata": {
    "collapsed": true
   },
   "outputs": [],
   "source": [
    "gray = Image.open('1.jpg').convert('L')\n",
    "gray.show()"
   ]
  },
  {
   "cell_type": "code",
   "execution_count": 12,
   "metadata": {},
   "outputs": [
    {
     "name": "stdout",
     "output_type": "stream",
     "text": [
      "(384, 683, 3)\n",
      "uint8\n",
      "[[[ 30  32  71]\n",
      "  [ 30  32  71]\n",
      "  [ 30  32  71]\n",
      "  ..., \n",
      "  [ 31  33  71]\n",
      "  [ 31  34  69]\n",
      "  [ 31  34  69]]\n",
      "\n",
      " [[ 31  33  72]\n",
      "  [ 31  33  72]\n",
      "  [ 30  32  71]\n",
      "  ..., \n",
      "  [ 31  33  71]\n",
      "  [ 31  34  69]\n",
      "  [ 31  34  69]]\n",
      "\n",
      " [[ 30  32  71]\n",
      "  [ 30  32  71]\n",
      "  [ 30  32  71]\n",
      "  ..., \n",
      "  [ 31  33  71]\n",
      "  [ 31  34  69]\n",
      "  [ 31  34  69]]\n",
      "\n",
      " ..., \n",
      " [[107 147 172]\n",
      "  [162 204 228]\n",
      "  [168 210 232]\n",
      "  ..., \n",
      "  [ 29  47  85]\n",
      "  [ 42  60 100]\n",
      "  [ 35  53  93]]\n",
      "\n",
      " [[146 192 215]\n",
      "  [162 208 231]\n",
      "  [171 217 240]\n",
      "  ..., \n",
      "  [ 43  55  93]\n",
      "  [ 31  38  80]\n",
      "  [ 43  50  92]]\n",
      "\n",
      " [[152 203 224]\n",
      "  [167 218 239]\n",
      "  [165 213 235]\n",
      "  ..., \n",
      "  [ 38  43  81]\n",
      "  [ 40  39  79]\n",
      "  [ 47  46  86]]]\n"
     ]
    }
   ],
   "source": [
    "#pillow读进来的图片不是矩阵，我们将图片转矩阵,channel last\n",
    "arr = np.array(img3)\n",
    "print(arr.shape)\n",
    "print(arr.dtype)\n",
    "print(arr)"
   ]
  },
  {
   "cell_type": "code",
   "execution_count": 13,
   "metadata": {
    "collapsed": true
   },
   "outputs": [],
   "source": [
    "#矩阵再转为图像\n",
    "new_im = Image.fromarray(arr)\n",
    "new_im.save('3.png')"
   ]
  },
  {
   "cell_type": "code",
   "execution_count": 6,
   "metadata": {},
   "outputs": [
    {
     "name": "stdout",
     "output_type": "stream",
     "text": [
      "(384, 683)\n",
      "uint8\n",
      "[[ 35  35  35 ...,  36  37  37]\n",
      " [ 36  36  35 ...,  36  37  37]\n",
      " [ 35  35  35 ...,  36  37  37]\n",
      " ..., \n",
      " [137 194 199 ...,  45  59  52]\n",
      " [180 196 205 ...,  55  40  52]\n",
      " [190 205 201 ...,  45  43  50]]\n"
     ]
    }
   ],
   "source": [
    "arr_gray = np.array(gray)\n",
    "print(arr_gray.shape)\n",
    "print(arr_gray.dtype)\n",
    "print(arr_gray)"
   ]
  },
  {
   "cell_type": "code",
   "execution_count": null,
   "metadata": {
    "collapsed": true
   },
   "outputs": [],
   "source": []
  }
 ],
 "metadata": {
  "kernelspec": {
   "display_name": "Python 3",
   "language": "python",
   "name": "python3"
  },
  "language_info": {
   "codemirror_mode": {
    "name": "ipython",
    "version": 3
   },
   "file_extension": ".py",
   "mimetype": "text/x-python",
   "name": "python",
   "nbconvert_exporter": "python",
   "pygments_lexer": "ipython3",
   "version": "3.5.4"
  }
 },
 "nbformat": 4,
 "nbformat_minor": 2
}
