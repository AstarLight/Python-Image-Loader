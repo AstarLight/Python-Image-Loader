{
 "cells": [
  {
   "cell_type": "code",
   "execution_count": 1,
   "metadata": {
    "collapsed": true
   },
   "outputs": [],
   "source": [
    "import cv2\n",
    "import numpy as np\n"
   ]
  },
  {
   "cell_type": "code",
   "execution_count": 2,
   "metadata": {},
   "outputs": [
    {
     "name": "stdout",
     "output_type": "stream",
     "text": [
      "(384, 683, 3)\n",
      "786816\n",
      "uint8\n",
      "[[[ 71  32  30]\n",
      "  [ 71  32  30]\n",
      "  [ 71  32  30]\n",
      "  ..., \n",
      "  [ 71  33  31]\n",
      "  [ 69  34  31]\n",
      "  [ 69  34  31]]\n",
      "\n",
      " [[ 72  33  31]\n",
      "  [ 72  33  31]\n",
      "  [ 71  32  30]\n",
      "  ..., \n",
      "  [ 71  33  31]\n",
      "  [ 69  34  31]\n",
      "  [ 69  34  31]]\n",
      "\n",
      " [[ 71  32  30]\n",
      "  [ 71  32  30]\n",
      "  [ 71  32  30]\n",
      "  ..., \n",
      "  [ 71  33  31]\n",
      "  [ 69  34  31]\n",
      "  [ 69  34  31]]\n",
      "\n",
      " ..., \n",
      " [[172 147 107]\n",
      "  [228 204 162]\n",
      "  [232 210 168]\n",
      "  ..., \n",
      "  [ 85  47  29]\n",
      "  [100  60  42]\n",
      "  [ 93  53  35]]\n",
      "\n",
      " [[215 192 146]\n",
      "  [231 208 162]\n",
      "  [240 217 171]\n",
      "  ..., \n",
      "  [ 93  55  43]\n",
      "  [ 80  38  31]\n",
      "  [ 92  50  43]]\n",
      "\n",
      " [[224 203 152]\n",
      "  [239 218 167]\n",
      "  [235 213 165]\n",
      "  ..., \n",
      "  [ 81  43  38]\n",
      "  [ 79  39  40]\n",
      "  [ 86  46  47]]]\n"
     ]
    },
    {
     "data": {
      "text/plain": [
       "-1"
      ]
     },
     "execution_count": 2,
     "metadata": {},
     "output_type": "execute_result"
    }
   ],
   "source": [
    "#读入图片：默认彩色图，cv2.IMREAD_GRAYSCALE灰度图，cv2.IMREAD_UNCHANGED包含alpha通道\n",
    "img = cv2.imread('1.jpg')\n",
    "cv2.imshow('src',img)\n",
    "print(img.shape) # (h,w,c)\n",
    "print(img.size)\n",
    "print(img.dtype)\n",
    "print(img)\n",
    "cv2.waitKey()"
   ]
  },
  {
   "cell_type": "code",
   "execution_count": 3,
   "metadata": {},
   "outputs": [
    {
     "name": "stdout",
     "output_type": "stream",
     "text": [
      "(384, 683)\n",
      "262272\n",
      "[[ 36  36  36 ...,  37  37  37]\n",
      " [ 37  37  36 ...,  37  37  37]\n",
      " [ 36  36  36 ...,  37  37  37]\n",
      " ..., \n",
      " [138 194 200 ...,  46  59  52]\n",
      " [181 197 206 ...,  56  41  53]\n",
      " [190 205 201 ...,  46  44  51]]\n"
     ]
    },
    {
     "data": {
      "text/plain": [
       "-1"
      ]
     },
     "execution_count": 3,
     "metadata": {},
     "output_type": "execute_result"
    }
   ],
   "source": [
    "#gray = cv2.imread('1.jpg',cv2.IMREAD_GRAYSCALE) #灰度图\n",
    "#cv2.imshow('gray',gray)\n",
    "#也可以这么写，先读入彩色图，再转灰度图\n",
    "src = cv2.imread('1.jpg')\n",
    "gray = cv2.cvtColor(src,cv2.COLOR_BGR2GRAY)\n",
    "cv2.imshow('gray',gray)\n",
    "print(gray.shape)\n",
    "print(gray.size)\n",
    "print(gray)\n",
    "cv2.waitKey()"
   ]
  },
  {
   "cell_type": "code",
   "execution_count": 4,
   "metadata": {},
   "outputs": [
    {
     "name": "stdout",
     "output_type": "stream",
     "text": [
      "None\n"
     ]
    }
   ],
   "source": [
    "#注意，计算图片路径是错的，Opencv也不会提醒你，但print img时得到的结果是None\n",
    "img2 = cv2.imread('2.jpg')\n",
    "print(img2)"
   ]
  },
  {
   "cell_type": "code",
   "execution_count": 5,
   "metadata": {},
   "outputs": [
    {
     "name": "stdout",
     "output_type": "stream",
     "text": [
      "fail to load image!\n"
     ]
    }
   ],
   "source": [
    "#如何解决“读到的图片不存在的问题”？ #加入判断语句，如果为空，做异常处理\n",
    "img2 = cv2.imread('2.jpg')\n",
    "if img2 == None:\n",
    "    print('fail to load image!')"
   ]
  },
  {
   "cell_type": "code",
   "execution_count": 6,
   "metadata": {},
   "outputs": [
    {
     "name": "stdout",
     "output_type": "stream",
     "text": [
      "(384, 683, 3)\n",
      "(3, 384, 683)\n"
     ]
    }
   ],
   "source": [
    "#注意到，opencv读入的图片的彩色图是一个channel last的三维矩阵（h,w,c），即（高度，宽度，通道）\n",
    "#有时候在深度学习中用到的的图片矩阵形式可能是channel first，那我们可以这样转一下\n",
    "print(img.shape)\n",
    "img = img.transpose(2,0,1)\n",
    "print(img.shape)"
   ]
  },
  {
   "cell_type": "code",
   "execution_count": 7,
   "metadata": {},
   "outputs": [
    {
     "name": "stdout",
     "output_type": "stream",
     "text": [
      "(1, 3, 384, 683)\n"
     ]
    }
   ],
   "source": [
    "#有时候还要扩展维度，比如要在要加一列做图片的个数，可以这么做\n",
    "img = np.expand_dims(img, axis=0)\n",
    "print(img.shape)"
   ]
  },
  {
   "cell_type": "code",
   "execution_count": 8,
   "metadata": {},
   "outputs": [
    {
     "name": "stdout",
     "output_type": "stream",
     "text": [
      "float64\n",
      "[[[ 0.27843137  0.1254902   0.11764706]\n",
      "  [ 0.27843137  0.1254902   0.11764706]\n",
      "  [ 0.27843137  0.1254902   0.11764706]\n",
      "  ..., \n",
      "  [ 0.27843137  0.12941176  0.12156863]\n",
      "  [ 0.27058824  0.13333333  0.12156863]\n",
      "  [ 0.27058824  0.13333333  0.12156863]]\n",
      "\n",
      " [[ 0.28235294  0.12941176  0.12156863]\n",
      "  [ 0.28235294  0.12941176  0.12156863]\n",
      "  [ 0.27843137  0.1254902   0.11764706]\n",
      "  ..., \n",
      "  [ 0.27843137  0.12941176  0.12156863]\n",
      "  [ 0.27058824  0.13333333  0.12156863]\n",
      "  [ 0.27058824  0.13333333  0.12156863]]\n",
      "\n",
      " [[ 0.27843137  0.1254902   0.11764706]\n",
      "  [ 0.27843137  0.1254902   0.11764706]\n",
      "  [ 0.27843137  0.1254902   0.11764706]\n",
      "  ..., \n",
      "  [ 0.27843137  0.12941176  0.12156863]\n",
      "  [ 0.27058824  0.13333333  0.12156863]\n",
      "  [ 0.27058824  0.13333333  0.12156863]]\n",
      "\n",
      " ..., \n",
      " [[ 0.6745098   0.57647059  0.41960784]\n",
      "  [ 0.89411765  0.8         0.63529412]\n",
      "  [ 0.90980392  0.82352941  0.65882353]\n",
      "  ..., \n",
      "  [ 0.33333333  0.18431373  0.11372549]\n",
      "  [ 0.39215686  0.23529412  0.16470588]\n",
      "  [ 0.36470588  0.20784314  0.1372549 ]]\n",
      "\n",
      " [[ 0.84313725  0.75294118  0.57254902]\n",
      "  [ 0.90588235  0.81568627  0.63529412]\n",
      "  [ 0.94117647  0.85098039  0.67058824]\n",
      "  ..., \n",
      "  [ 0.36470588  0.21568627  0.16862745]\n",
      "  [ 0.31372549  0.14901961  0.12156863]\n",
      "  [ 0.36078431  0.19607843  0.16862745]]\n",
      "\n",
      " [[ 0.87843137  0.79607843  0.59607843]\n",
      "  [ 0.9372549   0.85490196  0.65490196]\n",
      "  [ 0.92156863  0.83529412  0.64705882]\n",
      "  ..., \n",
      "  [ 0.31764706  0.16862745  0.14901961]\n",
      "  [ 0.30980392  0.15294118  0.15686275]\n",
      "  [ 0.3372549   0.18039216  0.18431373]]]\n"
     ]
    }
   ],
   "source": [
    "#因为opencv读入的图片矩阵数值是0到255，有时我们需要对其进行归一化为0~1\n",
    "img3 = cv2.imread('1.jpg')\n",
    "img3 = img3.astype(\"float\") / 255.0  #注意需要先转化数据类型为float\n",
    "print(img3.dtype)\n",
    "print(img3)\n",
    "\n"
   ]
  },
  {
   "cell_type": "code",
   "execution_count": 9,
   "metadata": {},
   "outputs": [
    {
     "data": {
      "text/plain": [
       "True"
      ]
     },
     "execution_count": 9,
     "metadata": {},
     "output_type": "execute_result"
    }
   ],
   "source": [
    "#存储图片\n",
    "cv2.imwrite('test1.jpg',img3) #得到的是全黑的图片，因为我们把它归一化了\n",
    "#所以要得到可视化的图，需要先*255还原\n",
    "img3 = img3 * 255\n",
    "cv2.imwrite('test2.jpg',img3)  #这样就可以看到彩色原图了"
   ]
  },
  {
   "cell_type": "code",
   "execution_count": 10,
   "metadata": {
    "collapsed": true
   },
   "outputs": [],
   "source": [
    "#opencv读入的矩阵是BGR，如果想转为RGB，可以这么转\n",
    "img4 = cv2.imread('1.jpg')\n",
    "img4 = cv2.cvtColor(img4,cv2.COLOR_BGR2RGB)"
   ]
  },
  {
   "cell_type": "code",
   "execution_count": 11,
   "metadata": {},
   "outputs": [
    {
     "name": "stdout",
     "output_type": "stream",
     "text": [
      "[20 19 59]\n",
      "24\n",
      "[255 255 255]\n",
      "255\n"
     ]
    }
   ],
   "source": [
    "#访问像素\n",
    "print(img4[10,10])  #3channels\n",
    "print(gray[10,10]) #1channel\n",
    "img4[10,10] = [255,255,255]\n",
    "gray[10,10] = 255\n",
    "print(img4[10,10])  #3channels\n",
    "print(gray[10,10]) #1channel"
   ]
  },
  {
   "cell_type": "code",
   "execution_count": 12,
   "metadata": {},
   "outputs": [
    {
     "data": {
      "text/plain": [
       "-1"
      ]
     },
     "execution_count": 12,
     "metadata": {},
     "output_type": "execute_result"
    }
   ],
   "source": [
    "#roi操作\n",
    "roi = img4[200:550,100:450,:]\n",
    "cv2.imshow('roi',roi)\n",
    "cv2.waitKey()"
   ]
  },
  {
   "cell_type": "code",
   "execution_count": 13,
   "metadata": {
    "collapsed": true
   },
   "outputs": [],
   "source": [
    "#分离通道\n",
    "img5 = cv2.imread('1.jpg')\n",
    "b,g,r = cv2.split(img5)\n",
    "#合并通道\n",
    "img5 = cv2.merge((b,g,r))\n",
    "#也可以不拆分\n",
    "img5[:,:,2] = 0  #将红色通道值全部设0"
   ]
  },
  {
   "cell_type": "code",
   "execution_count": null,
   "metadata": {
    "collapsed": true
   },
   "outputs": [],
   "source": []
  }
 ],
 "metadata": {
  "kernelspec": {
   "display_name": "Python 3",
   "language": "python",
   "name": "python3"
  },
  "language_info": {
   "codemirror_mode": {
    "name": "ipython",
    "version": 3
   },
   "file_extension": ".py",
   "mimetype": "text/x-python",
   "name": "python",
   "nbconvert_exporter": "python",
   "pygments_lexer": "ipython3",
   "version": "3.5.4"
  }
 },
 "nbformat": 4,
 "nbformat_minor": 2
}
